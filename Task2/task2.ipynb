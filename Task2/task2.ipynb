{
 "cells": [
  {
   "cell_type": "markdown",
   "id": "4fbe4bad-ae77-4aa8-909d-bf5628ae35e3",
   "metadata": {},
   "source": [
    "# Задание\n",
    "Взять данные по [ссылке](https://www.kaggle.com/datasets/mlg-ulb/creditcardfraud) и:\r\n",
    "\r\n",
    "- Провести разведочный анализ данных\r\n",
    "    - какие зависимости в данных?\r\n",
    "    - [сбалансированы](https://www.kaggle.com/code/marcinrutecki/best-techniques-and-metrics-for-imbalanced-dataset) ли классы?\r\n",
    "    - основные статистики признаков\r\n",
    "- Разделить данные на train/test\r\n",
    "    - разделить на обучающую и тестовую подвыборки\r\n",
    "    - сравнить статистики подвыборок и генеральной выборки\r\n",
    "- Обучить модели классификации\r\n",
    "    - какие метрики точности?\r\n",
    "    - какая модель лучше всего справилась?"
   ]
  },
  {
   "cell_type": "code",
   "execution_count": 1,
   "id": "bf928b93-68ae-4140-8de4-a1dbdd57a457",
   "metadata": {},
   "outputs": [],
   "source": [
    "# Импорт библиотек\n",
    "import pandas as pd\n",
    "import numpy as np\n",
    "import seaborn as sns\n",
    "import plotly.express as px\n",
    "import matplotlib.pyplot as plt\n",
    "from sklearn.model_selection import train_test_split\n",
    "from sklearn.preprocessing import StandardScaler\n",
    "from sklearn.linear_model import LogisticRegression\n",
    "from sklearn.ensemble import RandomForestClassifier\n",
    "from sklearn.metrics import classification_report, recall_score,precision_score\n",
    "from imblearn.under_sampling import RandomUnderSampler\n",
    "from imblearn.over_sampling import RandomOverSampler, SMOTE\n"
   ]
  },
  {
   "cell_type": "code",
   "execution_count": 2,
   "id": "68e3bf54-ccc1-450c-8e82-11af917fa98e",
   "metadata": {},
   "outputs": [
    {
     "data": {
      "text/html": [
       "<div>\n",
       "<style scoped>\n",
       "    .dataframe tbody tr th:only-of-type {\n",
       "        vertical-align: middle;\n",
       "    }\n",
       "\n",
       "    .dataframe tbody tr th {\n",
       "        vertical-align: top;\n",
       "    }\n",
       "\n",
       "    .dataframe thead th {\n",
       "        text-align: right;\n",
       "    }\n",
       "</style>\n",
       "<table border=\"1\" class=\"dataframe\">\n",
       "  <thead>\n",
       "    <tr style=\"text-align: right;\">\n",
       "      <th></th>\n",
       "      <th>Time</th>\n",
       "      <th>V1</th>\n",
       "      <th>V2</th>\n",
       "      <th>V3</th>\n",
       "      <th>V4</th>\n",
       "      <th>V5</th>\n",
       "      <th>V6</th>\n",
       "      <th>V7</th>\n",
       "      <th>V8</th>\n",
       "      <th>V9</th>\n",
       "      <th>...</th>\n",
       "      <th>V21</th>\n",
       "      <th>V22</th>\n",
       "      <th>V23</th>\n",
       "      <th>V24</th>\n",
       "      <th>V25</th>\n",
       "      <th>V26</th>\n",
       "      <th>V27</th>\n",
       "      <th>V28</th>\n",
       "      <th>Amount</th>\n",
       "      <th>Class</th>\n",
       "    </tr>\n",
       "  </thead>\n",
       "  <tbody>\n",
       "    <tr>\n",
       "      <th>0</th>\n",
       "      <td>0.0</td>\n",
       "      <td>-1.359807</td>\n",
       "      <td>-0.072781</td>\n",
       "      <td>2.536347</td>\n",
       "      <td>1.378155</td>\n",
       "      <td>-0.338321</td>\n",
       "      <td>0.462388</td>\n",
       "      <td>0.239599</td>\n",
       "      <td>0.098698</td>\n",
       "      <td>0.363787</td>\n",
       "      <td>...</td>\n",
       "      <td>-0.018307</td>\n",
       "      <td>0.277838</td>\n",
       "      <td>-0.110474</td>\n",
       "      <td>0.066928</td>\n",
       "      <td>0.128539</td>\n",
       "      <td>-0.189115</td>\n",
       "      <td>0.133558</td>\n",
       "      <td>-0.021053</td>\n",
       "      <td>149.62</td>\n",
       "      <td>0</td>\n",
       "    </tr>\n",
       "    <tr>\n",
       "      <th>1</th>\n",
       "      <td>0.0</td>\n",
       "      <td>1.191857</td>\n",
       "      <td>0.266151</td>\n",
       "      <td>0.166480</td>\n",
       "      <td>0.448154</td>\n",
       "      <td>0.060018</td>\n",
       "      <td>-0.082361</td>\n",
       "      <td>-0.078803</td>\n",
       "      <td>0.085102</td>\n",
       "      <td>-0.255425</td>\n",
       "      <td>...</td>\n",
       "      <td>-0.225775</td>\n",
       "      <td>-0.638672</td>\n",
       "      <td>0.101288</td>\n",
       "      <td>-0.339846</td>\n",
       "      <td>0.167170</td>\n",
       "      <td>0.125895</td>\n",
       "      <td>-0.008983</td>\n",
       "      <td>0.014724</td>\n",
       "      <td>2.69</td>\n",
       "      <td>0</td>\n",
       "    </tr>\n",
       "    <tr>\n",
       "      <th>2</th>\n",
       "      <td>1.0</td>\n",
       "      <td>-1.358354</td>\n",
       "      <td>-1.340163</td>\n",
       "      <td>1.773209</td>\n",
       "      <td>0.379780</td>\n",
       "      <td>-0.503198</td>\n",
       "      <td>1.800499</td>\n",
       "      <td>0.791461</td>\n",
       "      <td>0.247676</td>\n",
       "      <td>-1.514654</td>\n",
       "      <td>...</td>\n",
       "      <td>0.247998</td>\n",
       "      <td>0.771679</td>\n",
       "      <td>0.909412</td>\n",
       "      <td>-0.689281</td>\n",
       "      <td>-0.327642</td>\n",
       "      <td>-0.139097</td>\n",
       "      <td>-0.055353</td>\n",
       "      <td>-0.059752</td>\n",
       "      <td>378.66</td>\n",
       "      <td>0</td>\n",
       "    </tr>\n",
       "    <tr>\n",
       "      <th>3</th>\n",
       "      <td>1.0</td>\n",
       "      <td>-0.966272</td>\n",
       "      <td>-0.185226</td>\n",
       "      <td>1.792993</td>\n",
       "      <td>-0.863291</td>\n",
       "      <td>-0.010309</td>\n",
       "      <td>1.247203</td>\n",
       "      <td>0.237609</td>\n",
       "      <td>0.377436</td>\n",
       "      <td>-1.387024</td>\n",
       "      <td>...</td>\n",
       "      <td>-0.108300</td>\n",
       "      <td>0.005274</td>\n",
       "      <td>-0.190321</td>\n",
       "      <td>-1.175575</td>\n",
       "      <td>0.647376</td>\n",
       "      <td>-0.221929</td>\n",
       "      <td>0.062723</td>\n",
       "      <td>0.061458</td>\n",
       "      <td>123.50</td>\n",
       "      <td>0</td>\n",
       "    </tr>\n",
       "    <tr>\n",
       "      <th>4</th>\n",
       "      <td>2.0</td>\n",
       "      <td>-1.158233</td>\n",
       "      <td>0.877737</td>\n",
       "      <td>1.548718</td>\n",
       "      <td>0.403034</td>\n",
       "      <td>-0.407193</td>\n",
       "      <td>0.095921</td>\n",
       "      <td>0.592941</td>\n",
       "      <td>-0.270533</td>\n",
       "      <td>0.817739</td>\n",
       "      <td>...</td>\n",
       "      <td>-0.009431</td>\n",
       "      <td>0.798278</td>\n",
       "      <td>-0.137458</td>\n",
       "      <td>0.141267</td>\n",
       "      <td>-0.206010</td>\n",
       "      <td>0.502292</td>\n",
       "      <td>0.219422</td>\n",
       "      <td>0.215153</td>\n",
       "      <td>69.99</td>\n",
       "      <td>0</td>\n",
       "    </tr>\n",
       "  </tbody>\n",
       "</table>\n",
       "<p>5 rows × 31 columns</p>\n",
       "</div>"
      ],
      "text/plain": [
       "   Time        V1        V2        V3        V4        V5        V6        V7  \\\n",
       "0   0.0 -1.359807 -0.072781  2.536347  1.378155 -0.338321  0.462388  0.239599   \n",
       "1   0.0  1.191857  0.266151  0.166480  0.448154  0.060018 -0.082361 -0.078803   \n",
       "2   1.0 -1.358354 -1.340163  1.773209  0.379780 -0.503198  1.800499  0.791461   \n",
       "3   1.0 -0.966272 -0.185226  1.792993 -0.863291 -0.010309  1.247203  0.237609   \n",
       "4   2.0 -1.158233  0.877737  1.548718  0.403034 -0.407193  0.095921  0.592941   \n",
       "\n",
       "         V8        V9  ...       V21       V22       V23       V24       V25  \\\n",
       "0  0.098698  0.363787  ... -0.018307  0.277838 -0.110474  0.066928  0.128539   \n",
       "1  0.085102 -0.255425  ... -0.225775 -0.638672  0.101288 -0.339846  0.167170   \n",
       "2  0.247676 -1.514654  ...  0.247998  0.771679  0.909412 -0.689281 -0.327642   \n",
       "3  0.377436 -1.387024  ... -0.108300  0.005274 -0.190321 -1.175575  0.647376   \n",
       "4 -0.270533  0.817739  ... -0.009431  0.798278 -0.137458  0.141267 -0.206010   \n",
       "\n",
       "        V26       V27       V28  Amount  Class  \n",
       "0 -0.189115  0.133558 -0.021053  149.62      0  \n",
       "1  0.125895 -0.008983  0.014724    2.69      0  \n",
       "2 -0.139097 -0.055353 -0.059752  378.66      0  \n",
       "3 -0.221929  0.062723  0.061458  123.50      0  \n",
       "4  0.502292  0.219422  0.215153   69.99      0  \n",
       "\n",
       "[5 rows x 31 columns]"
      ]
     },
     "execution_count": 2,
     "metadata": {},
     "output_type": "execute_result"
    }
   ],
   "source": [
    "#Загружаем датасет\n",
    "df = pd.read_csv(\"creditcard.csv\")\n",
    "df.head()"
   ]
  },
  {
   "cell_type": "code",
   "execution_count": 3,
   "id": "ae297314-35e8-471a-99f4-67e7cf79a69f",
   "metadata": {},
   "outputs": [
    {
     "data": {
      "text/plain": [
       "0"
      ]
     },
     "execution_count": 3,
     "metadata": {},
     "output_type": "execute_result"
    }
   ],
   "source": [
    "#Проверим количество пропущенныз значений\n",
    "df.isnull().sum().sum()"
   ]
  },
  {
   "cell_type": "markdown",
   "id": "5cee5f6b-ba18-44ae-8774-ca2b5a06e4f4",
   "metadata": {},
   "source": [
    "Пропусков нет"
   ]
  },
  {
   "cell_type": "code",
   "execution_count": 4,
   "id": "928a6b9a-d14f-4500-b58a-d2d2e6571cda",
   "metadata": {},
   "outputs": [
    {
     "data": {
      "text/plain": [
       "1081"
      ]
     },
     "execution_count": 4,
     "metadata": {},
     "output_type": "execute_result"
    }
   ],
   "source": [
    "#Проверим количество дубликатов\n",
    "df.duplicated().sum()"
   ]
  },
  {
   "cell_type": "markdown",
   "id": "ad735900-dddb-4278-b2dc-79e57eb1664f",
   "metadata": {},
   "source": [
    "Дубликаты есть("
   ]
  },
  {
   "cell_type": "code",
   "execution_count": 5,
   "id": "7dffd100-11d5-4c82-b61d-3e74e1ee769d",
   "metadata": {},
   "outputs": [],
   "source": [
    "# Удалим дубликаты\n",
    "df = df.drop_duplicates()"
   ]
  },
  {
   "cell_type": "markdown",
   "id": "c7d3e00f-d5d6-4c0f-9c3d-468c27bd8c89",
   "metadata": {},
   "source": [
    "# Какие зависимости в данных?"
   ]
  },
  {
   "cell_type": "code",
   "execution_count": 6,
   "id": "2e88492e-8fef-44df-a087-faa29b14441c",
   "metadata": {},
   "outputs": [
    {
     "data": {
      "text/plain": [
       "<Axes: >"
      ]
     },
     "execution_count": 6,
     "metadata": {},
     "output_type": "execute_result"
    },
    {
     "data": {
      "image/png": "[encoded data removed]",
      "text/plain": [
       "<Figure size 640x480 with 2 Axes>"
      ]
     },
     "metadata": {},
     "output_type": "display_data"
    }
   ],
   "source": [
    "#Для оценки зависимости данных воспользуемся методом датафрейма .corr\n",
    "df_correlation = df.corr()\n",
    "sns.heatmap(df_correlation)"
   ]
  },
  {
   "cell_type": "markdown",
   "id": "90b5dfe7-0993-4d28-ba38-0c6189ce08d9",
   "metadata": {},
   "source": [
    "**Из полученной матрицы можно сделать вывод, что данные плохо кореллируют между собой.** \\\n",
    "**ненулевые значения можно заметить лишь для зависимости от парметра \"Amount\" и 'Time'**"
   ]
  },
  {
   "cell_type": "markdown",
   "id": "d8f972e4-e4d2-4412-bf96-a445883ef1c6",
   "metadata": {},
   "source": [
    "# Сбалансированы ли классы?"
   ]
  },
  {
   "cell_type": "markdown",
   "id": "ea750073-9264-458f-bacf-b5d1b176c2d7",
   "metadata": {},
   "source": [
    "Как предложено на ресурсе Kaggle, визуализируем данные с помощью pie графика."
   ]
  },
  {
   "cell_type": "code",
   "execution_count": 7,
   "id": "1eb4eab3-f29c-4840-ac00-da4f0d7202f9",
   "metadata": {},
   "outputs": [
    {
     "name": "stdout",
     "output_type": "stream",
     "text": [
      "Честные транзацкии - 99.83328986416473 %\n",
      "Мошеннические - 0.1667101358352777 %\n"
     ]
    },
    {
     "data": {
      "image/png": "[encoded data removed]",
      "text/plain": [
       "<Figure size 640x480 with 1 Axes>"
      ]
     },
     "metadata": {},
     "output_type": "display_data"
    }
   ],
   "source": [
    "fraud_or_not = df[\"Class\"].value_counts().tolist()\n",
    "labels = ['Честные транзакции', 'мошеннические']\n",
    "values = [fraud_or_not[0], fraud_or_not[1]]\n",
    "print(f\"Честные транзацкии - {fraud_or_not[0]/(fraud_or_not[0]+fraud_or_not[1])*100} %\")\n",
    "print(f\"Мошеннические - {fraud_or_not[1]/(fraud_or_not[0]+fraud_or_not[1])*100} %\")\n",
    "fig, ax = plt.subplots()\n",
    "ax.pie(values, labels=labels, autopct='%1.1f%%')\n",
    "plt.show()"
   ]
  },
  {
   "cell_type": "markdown",
   "id": "a1b7420e-18b1-43a3-b380-4a5915ffec44",
   "metadata": {},
   "source": [
    "+ **Видно, что данные плохо сбалансированы**\n",
    "+ **Соотношение составляет 99.8 и 0.17%**"
   ]
  },
  {
   "cell_type": "markdown",
   "id": "e5f49fc8-9b36-42e8-8b26-178be033efc8",
   "metadata": {},
   "source": [
    "# Основные статистики признаков"
   ]
  },
  {
   "cell_type": "code",
   "execution_count": 8,
   "id": "ebaac9de-b65c-4e41-90bd-a7d1e2d091ad",
   "metadata": {},
   "outputs": [
    {
     "data": {
      "text/html": [
       "<div>\n",
       "<style scoped>\n",
       "    .dataframe tbody tr th:only-of-type {\n",
       "        vertical-align: middle;\n",
       "    }\n",
       "\n",
       "    .dataframe tbody tr th {\n",
       "        vertical-align: top;\n",
       "    }\n",
       "\n",
       "    .dataframe thead th {\n",
       "        text-align: right;\n",
       "    }\n",
       "</style>\n",
       "<table border=\"1\" class=\"dataframe\">\n",
       "  <thead>\n",
       "    <tr style=\"text-align: right;\">\n",
       "      <th></th>\n",
       "      <th>Time</th>\n",
       "      <th>V1</th>\n",
       "      <th>V2</th>\n",
       "      <th>V3</th>\n",
       "      <th>V4</th>\n",
       "      <th>V5</th>\n",
       "      <th>V6</th>\n",
       "      <th>V7</th>\n",
       "      <th>V8</th>\n",
       "      <th>V9</th>\n",
       "      <th>...</th>\n",
       "      <th>V21</th>\n",
       "      <th>V22</th>\n",
       "      <th>V23</th>\n",
       "      <th>V24</th>\n",
       "      <th>V25</th>\n",
       "      <th>V26</th>\n",
       "      <th>V27</th>\n",
       "      <th>V28</th>\n",
       "      <th>Amount</th>\n",
       "      <th>Class</th>\n",
       "    </tr>\n",
       "  </thead>\n",
       "  <tbody>\n",
       "    <tr>\n",
       "      <th>count</th>\n",
       "      <td>283726.000000</td>\n",
       "      <td>283726.000000</td>\n",
       "      <td>283726.000000</td>\n",
       "      <td>283726.000000</td>\n",
       "      <td>283726.000000</td>\n",
       "      <td>283726.000000</td>\n",
       "      <td>283726.000000</td>\n",
       "      <td>283726.000000</td>\n",
       "      <td>283726.000000</td>\n",
       "      <td>283726.000000</td>\n",
       "      <td>...</td>\n",
       "      <td>283726.000000</td>\n",
       "      <td>283726.000000</td>\n",
       "      <td>283726.000000</td>\n",
       "      <td>283726.000000</td>\n",
       "      <td>283726.000000</td>\n",
       "      <td>283726.000000</td>\n",
       "      <td>283726.000000</td>\n",
       "      <td>283726.000000</td>\n",
       "      <td>283726.000000</td>\n",
       "      <td>283726.000000</td>\n",
       "    </tr>\n",
       "    <tr>\n",
       "      <th>mean</th>\n",
       "      <td>94811.077600</td>\n",
       "      <td>0.005917</td>\n",
       "      <td>-0.004135</td>\n",
       "      <td>0.001613</td>\n",
       "      <td>-0.002966</td>\n",
       "      <td>0.001828</td>\n",
       "      <td>-0.001139</td>\n",
       "      <td>0.001801</td>\n",
       "      <td>-0.000854</td>\n",
       "      <td>-0.001596</td>\n",
       "      <td>...</td>\n",
       "      <td>-0.000371</td>\n",
       "      <td>-0.000015</td>\n",
       "      <td>0.000198</td>\n",
       "      <td>0.000214</td>\n",
       "      <td>-0.000232</td>\n",
       "      <td>0.000149</td>\n",
       "      <td>0.001763</td>\n",
       "      <td>0.000547</td>\n",
       "      <td>88.472687</td>\n",
       "      <td>0.001667</td>\n",
       "    </tr>\n",
       "    <tr>\n",
       "      <th>std</th>\n",
       "      <td>47481.047891</td>\n",
       "      <td>1.948026</td>\n",
       "      <td>1.646703</td>\n",
       "      <td>1.508682</td>\n",
       "      <td>1.414184</td>\n",
       "      <td>1.377008</td>\n",
       "      <td>1.331931</td>\n",
       "      <td>1.227664</td>\n",
       "      <td>1.179054</td>\n",
       "      <td>1.095492</td>\n",
       "      <td>...</td>\n",
       "      <td>0.723909</td>\n",
       "      <td>0.724550</td>\n",
       "      <td>0.623702</td>\n",
       "      <td>0.605627</td>\n",
       "      <td>0.521220</td>\n",
       "      <td>0.482053</td>\n",
       "      <td>0.395744</td>\n",
       "      <td>0.328027</td>\n",
       "      <td>250.399437</td>\n",
       "      <td>0.040796</td>\n",
       "    </tr>\n",
       "    <tr>\n",
       "      <th>min</th>\n",
       "      <td>0.000000</td>\n",
       "      <td>-56.407510</td>\n",
       "      <td>-72.715728</td>\n",
       "      <td>-48.325589</td>\n",
       "      <td>-5.683171</td>\n",
       "      <td>-113.743307</td>\n",
       "      <td>-26.160506</td>\n",
       "      <td>-43.557242</td>\n",
       "      <td>-73.216718</td>\n",
       "      <td>-13.434066</td>\n",
       "      <td>...</td>\n",
       "      <td>-34.830382</td>\n",
       "      <td>-10.933144</td>\n",
       "      <td>-44.807735</td>\n",
       "      <td>-2.836627</td>\n",
       "      <td>-10.295397</td>\n",
       "      <td>-2.604551</td>\n",
       "      <td>-22.565679</td>\n",
       "      <td>-15.430084</td>\n",
       "      <td>0.000000</td>\n",
       "      <td>0.000000</td>\n",
       "    </tr>\n",
       "    <tr>\n",
       "      <th>25%</th>\n",
       "      <td>54204.750000</td>\n",
       "      <td>-0.915951</td>\n",
       "      <td>-0.600321</td>\n",
       "      <td>-0.889682</td>\n",
       "      <td>-0.850134</td>\n",
       "      <td>-0.689830</td>\n",
       "      <td>-0.769031</td>\n",
       "      <td>-0.552509</td>\n",
       "      <td>-0.208828</td>\n",
       "      <td>-0.644221</td>\n",
       "      <td>...</td>\n",
       "      <td>-0.228305</td>\n",
       "      <td>-0.542700</td>\n",
       "      <td>-0.161703</td>\n",
       "      <td>-0.354453</td>\n",
       "      <td>-0.317485</td>\n",
       "      <td>-0.326763</td>\n",
       "      <td>-0.070641</td>\n",
       "      <td>-0.052818</td>\n",
       "      <td>5.600000</td>\n",
       "      <td>0.000000</td>\n",
       "    </tr>\n",
       "    <tr>\n",
       "      <th>50%</th>\n",
       "      <td>84692.500000</td>\n",
       "      <td>0.020384</td>\n",
       "      <td>0.063949</td>\n",
       "      <td>0.179963</td>\n",
       "      <td>-0.022248</td>\n",
       "      <td>-0.053468</td>\n",
       "      <td>-0.275168</td>\n",
       "      <td>0.040859</td>\n",
       "      <td>0.021898</td>\n",
       "      <td>-0.052596</td>\n",
       "      <td>...</td>\n",
       "      <td>-0.029441</td>\n",
       "      <td>0.006675</td>\n",
       "      <td>-0.011159</td>\n",
       "      <td>0.041016</td>\n",
       "      <td>0.016278</td>\n",
       "      <td>-0.052172</td>\n",
       "      <td>0.001479</td>\n",
       "      <td>0.011288</td>\n",
       "      <td>22.000000</td>\n",
       "      <td>0.000000</td>\n",
       "    </tr>\n",
       "    <tr>\n",
       "      <th>75%</th>\n",
       "      <td>139298.000000</td>\n",
       "      <td>1.316068</td>\n",
       "      <td>0.800283</td>\n",
       "      <td>1.026960</td>\n",
       "      <td>0.739647</td>\n",
       "      <td>0.612218</td>\n",
       "      <td>0.396792</td>\n",
       "      <td>0.570474</td>\n",
       "      <td>0.325704</td>\n",
       "      <td>0.595977</td>\n",
       "      <td>...</td>\n",
       "      <td>0.186194</td>\n",
       "      <td>0.528245</td>\n",
       "      <td>0.147748</td>\n",
       "      <td>0.439738</td>\n",
       "      <td>0.350667</td>\n",
       "      <td>0.240261</td>\n",
       "      <td>0.091208</td>\n",
       "      <td>0.078276</td>\n",
       "      <td>77.510000</td>\n",
       "      <td>0.000000</td>\n",
       "    </tr>\n",
       "    <tr>\n",
       "      <th>max</th>\n",
       "      <td>172792.000000</td>\n",
       "      <td>2.454930</td>\n",
       "      <td>22.057729</td>\n",
       "      <td>9.382558</td>\n",
       "      <td>16.875344</td>\n",
       "      <td>34.801666</td>\n",
       "      <td>73.301626</td>\n",
       "      <td>120.589494</td>\n",
       "      <td>20.007208</td>\n",
       "      <td>15.594995</td>\n",
       "      <td>...</td>\n",
       "      <td>27.202839</td>\n",
       "      <td>10.503090</td>\n",
       "      <td>22.528412</td>\n",
       "      <td>4.584549</td>\n",
       "      <td>7.519589</td>\n",
       "      <td>3.517346</td>\n",
       "      <td>31.612198</td>\n",
       "      <td>33.847808</td>\n",
       "      <td>25691.160000</td>\n",
       "      <td>1.000000</td>\n",
       "    </tr>\n",
       "  </tbody>\n",
       "</table>\n",
       "<p>8 rows × 31 columns</p>\n",
       "</div>"
      ],
      "text/plain": [
       "                Time             V1             V2             V3  \\\n",
       "count  283726.000000  283726.000000  283726.000000  283726.000000   \n",
       "mean    94811.077600       0.005917      -0.004135       0.001613   \n",
       "std     47481.047891       1.948026       1.646703       1.508682   \n",
       "min         0.000000     -56.407510     -72.715728     -48.325589   \n",
       "25%     54204.750000      -0.915951      -0.600321      -0.889682   \n",
       "50%     84692.500000       0.020384       0.063949       0.179963   \n",
       "75%    139298.000000       1.316068       0.800283       1.026960   \n",
       "max    172792.000000       2.454930      22.057729       9.382558   \n",
       "\n",
       "                  V4             V5             V6             V7  \\\n",
       "count  283726.000000  283726.000000  283726.000000  283726.000000   \n",
       "mean       -0.002966       0.001828      -0.001139       0.001801   \n",
       "std         1.414184       1.377008       1.331931       1.227664   \n",
       "min        -5.683171    -113.743307     -26.160506     -43.557242   \n",
       "25%        -0.850134      -0.689830      -0.769031      -0.552509   \n",
       "50%        -0.022248      -0.053468      -0.275168       0.040859   \n",
       "75%         0.739647       0.612218       0.396792       0.570474   \n",
       "max        16.875344      34.801666      73.301626     120.589494   \n",
       "\n",
       "                  V8             V9  ...            V21            V22  \\\n",
       "count  283726.000000  283726.000000  ...  283726.000000  283726.000000   \n",
       "mean       -0.000854      -0.001596  ...      -0.000371      -0.000015   \n",
       "std         1.179054       1.095492  ...       0.723909       0.724550   \n",
       "min       -73.216718     -13.434066  ...     -34.830382     -10.933144   \n",
       "25%        -0.208828      -0.644221  ...      -0.228305      -0.542700   \n",
       "50%         0.021898      -0.052596  ...      -0.029441       0.006675   \n",
       "75%         0.325704       0.595977  ...       0.186194       0.528245   \n",
       "max        20.007208      15.594995  ...      27.202839      10.503090   \n",
       "\n",
       "                 V23            V24            V25            V26  \\\n",
       "count  283726.000000  283726.000000  283726.000000  283726.000000   \n",
       "mean        0.000198       0.000214      -0.000232       0.000149   \n",
       "std         0.623702       0.605627       0.521220       0.482053   \n",
       "min       -44.807735      -2.836627     -10.295397      -2.604551   \n",
       "25%        -0.161703      -0.354453      -0.317485      -0.326763   \n",
       "50%        -0.011159       0.041016       0.016278      -0.052172   \n",
       "75%         0.147748       0.439738       0.350667       0.240261   \n",
       "max        22.528412       4.584549       7.519589       3.517346   \n",
       "\n",
       "                 V27            V28         Amount          Class  \n",
       "count  283726.000000  283726.000000  283726.000000  283726.000000  \n",
       "mean        0.001763       0.000547      88.472687       0.001667  \n",
       "std         0.395744       0.328027     250.399437       0.040796  \n",
       "min       -22.565679     -15.430084       0.000000       0.000000  \n",
       "25%        -0.070641      -0.052818       5.600000       0.000000  \n",
       "50%         0.001479       0.011288      22.000000       0.000000  \n",
       "75%         0.091208       0.078276      77.510000       0.000000  \n",
       "max        31.612198      33.847808   25691.160000       1.000000  \n",
       "\n",
       "[8 rows x 31 columns]"
      ]
     },
     "execution_count": 8,
     "metadata": {},
     "output_type": "execute_result"
    }
   ],
   "source": [
    "df.describe()"
   ]
  },
  {
   "cell_type": "markdown",
   "id": "0989065e-76aa-4f25-91ff-bec10b0b42b6",
   "metadata": {},
   "source": [
    "# Разделить на обучающую и тестовую подвыборки"
   ]
  },
  {
   "cell_type": "markdown",
   "id": "bc67dd17-b5b5-40c4-8336-50fbdeb894f3",
   "metadata": {},
   "source": [
    "Разобьем данные на тренировочные train и тестовые test методом из sklearn"
   ]
  },
  {
   "cell_type": "code",
   "execution_count": 9,
   "id": "892cfdd8-c6d5-4e13-9027-b2c3d6843c07",
   "metadata": {},
   "outputs": [],
   "source": [
    "X = df.drop([\"Class\"], axis = 1)\n",
    "Y = df.Class"
   ]
  },
  {
   "cell_type": "code",
   "execution_count": 10,
   "id": "080e685c-a3bb-4fbc-b79c-6cb8b0a70838",
   "metadata": {},
   "outputs": [],
   "source": [
    "X_train, X_test, Y_train, Y_test = train_test_split(X, Y, test_size = 0.3, stratify = Y)"
   ]
  },
  {
   "cell_type": "code",
   "execution_count": 11,
   "id": "4e8f86b3-2305-43db-b02c-4fea35f0d706",
   "metadata": {},
   "outputs": [
    {
     "name": "stdout",
     "output_type": "stream",
     "text": [
      "Train\n",
      "Честные транзацкии - 99.83334004672521 %\n",
      "Мошеннические - 0.16665995327479255 %\n",
      "Test\n",
      "Честные транзацкии - 99.83317277191664 %\n",
      "Мошеннические - 0.1668272280833666 %\n"
     ]
    },
    {
     "data": {
      "image/png": "[encoded data removed]",
      "text/plain": [
       "<Figure size 640x480 with 2 Axes>"
      ]
     },
     "metadata": {},
     "output_type": "display_data"
    }
   ],
   "source": [
    "fraud_or_not_train = Y_train.value_counts().tolist()\n",
    "fraud_or_not_test = Y_test.value_counts().tolist()\n",
    "\n",
    "labels = ['Честн.', 'мошенн.']\n",
    "values_train = [fraud_or_not_train[0], fraud_or_not_train[1]]\n",
    "values_test = [fraud_or_not_test[0], fraud_or_not_test[1]]\n",
    "\n",
    "print(\"Train\")\n",
    "print(f\"Честные транзацкии - {fraud_or_not_train[0]/(fraud_or_not_train[0]+fraud_or_not_train[1])*100} %\")\n",
    "print(f\"Мошеннические - {fraud_or_not_train[1]/(fraud_or_not_train[0]+fraud_or_not_train[1])*100} %\")\n",
    "\n",
    "\n",
    "print(\"Test\")\n",
    "print(f\"Честные транзацкии - {values_test[0]/(values_test[0]+values_test[1])*100} %\")\n",
    "print(f\"Мошеннические - {values_test[1]/(values_test[0]+values_test[1])*100} %\")\n",
    "\n",
    "fig,  (ax1, ax2) = plt.subplots(nrows=1, ncols=2)\n",
    "ax1.pie(values_train, autopct='%1.1f%%', colors=[\"lightblue\", 'crimson'])\n",
    "ax1.set_title('Train')\n",
    "ax2.set_title('Test')\n",
    "ax2.pie(values_test, autopct='%1.1f%%', colors=[\"lightblue\", 'crimson'])\n",
    "plt.legend(labels, loc=3)\n",
    "plt.show()"
   ]
  },
  {
   "cell_type": "markdown",
   "id": "aa6c251b-5003-45ca-b47e-04faf008c7ed",
   "metadata": {},
   "source": [
    "**Соотношение классов сохранилось**"
   ]
  },
  {
   "cell_type": "code",
   "execution_count": 12,
   "id": "d0ed23bc-711b-413e-a7a1-e95cf0b935ba",
   "metadata": {},
   "outputs": [
    {
     "data": {
      "text/html": [
       "<div>\n",
       "<style scoped>\n",
       "    .dataframe tbody tr th:only-of-type {\n",
       "        vertical-align: middle;\n",
       "    }\n",
       "\n",
       "    .dataframe tbody tr th {\n",
       "        vertical-align: top;\n",
       "    }\n",
       "\n",
       "    .dataframe thead th {\n",
       "        text-align: right;\n",
       "    }\n",
       "</style>\n",
       "<table border=\"1\" class=\"dataframe\">\n",
       "  <thead>\n",
       "    <tr style=\"text-align: right;\">\n",
       "      <th></th>\n",
       "      <th>Time</th>\n",
       "      <th>V1</th>\n",
       "      <th>V2</th>\n",
       "      <th>V3</th>\n",
       "      <th>V4</th>\n",
       "      <th>V5</th>\n",
       "      <th>V6</th>\n",
       "      <th>V7</th>\n",
       "      <th>V8</th>\n",
       "      <th>V9</th>\n",
       "      <th>...</th>\n",
       "      <th>V20</th>\n",
       "      <th>V21</th>\n",
       "      <th>V22</th>\n",
       "      <th>V23</th>\n",
       "      <th>V24</th>\n",
       "      <th>V25</th>\n",
       "      <th>V26</th>\n",
       "      <th>V27</th>\n",
       "      <th>V28</th>\n",
       "      <th>Amount</th>\n",
       "    </tr>\n",
       "  </thead>\n",
       "  <tbody>\n",
       "    <tr>\n",
       "      <th>count</th>\n",
       "      <td>113490.000000</td>\n",
       "      <td>113490.000000</td>\n",
       "      <td>113490.000000</td>\n",
       "      <td>113490.000000</td>\n",
       "      <td>113490.000000</td>\n",
       "      <td>113490.000000</td>\n",
       "      <td>113490.000000</td>\n",
       "      <td>113490.000000</td>\n",
       "      <td>113490.000000</td>\n",
       "      <td>113490.000000</td>\n",
       "      <td>...</td>\n",
       "      <td>113490.000000</td>\n",
       "      <td>113490.000000</td>\n",
       "      <td>113490.000000</td>\n",
       "      <td>113490.000000</td>\n",
       "      <td>113490.000000</td>\n",
       "      <td>113490.000000</td>\n",
       "      <td>113490.000000</td>\n",
       "      <td>113490.000000</td>\n",
       "      <td>113490.000000</td>\n",
       "      <td>113490.000000</td>\n",
       "    </tr>\n",
       "    <tr>\n",
       "      <th>mean</th>\n",
       "      <td>57.125848</td>\n",
       "      <td>0.005018</td>\n",
       "      <td>0.005751</td>\n",
       "      <td>-0.004177</td>\n",
       "      <td>-0.003135</td>\n",
       "      <td>-0.002355</td>\n",
       "      <td>-0.005351</td>\n",
       "      <td>0.005295</td>\n",
       "      <td>0.000166</td>\n",
       "      <td>-0.003883</td>\n",
       "      <td>...</td>\n",
       "      <td>-0.000042</td>\n",
       "      <td>-0.001907</td>\n",
       "      <td>-0.000404</td>\n",
       "      <td>-0.007409</td>\n",
       "      <td>-0.000892</td>\n",
       "      <td>-0.002041</td>\n",
       "      <td>-0.000007</td>\n",
       "      <td>0.002577</td>\n",
       "      <td>0.000914</td>\n",
       "      <td>0.716546</td>\n",
       "    </tr>\n",
       "    <tr>\n",
       "      <th>std</th>\n",
       "      <td>101.247946</td>\n",
       "      <td>-0.028047</td>\n",
       "      <td>-0.035382</td>\n",
       "      <td>0.000712</td>\n",
       "      <td>-0.002575</td>\n",
       "      <td>0.026081</td>\n",
       "      <td>0.001417</td>\n",
       "      <td>0.039799</td>\n",
       "      <td>-0.005326</td>\n",
       "      <td>-0.002680</td>\n",
       "      <td>...</td>\n",
       "      <td>-0.001591</td>\n",
       "      <td>0.000459</td>\n",
       "      <td>0.001573</td>\n",
       "      <td>0.011390</td>\n",
       "      <td>0.003353</td>\n",
       "      <td>-0.002831</td>\n",
       "      <td>-0.001930</td>\n",
       "      <td>-0.006847</td>\n",
       "      <td>-0.007392</td>\n",
       "      <td>12.117195</td>\n",
       "    </tr>\n",
       "    <tr>\n",
       "      <th>min</th>\n",
       "      <td>0.000000</td>\n",
       "      <td>-16.364972</td>\n",
       "      <td>-28.076483</td>\n",
       "      <td>-14.644605</td>\n",
       "      <td>-0.266856</td>\n",
       "      <td>-84.927730</td>\n",
       "      <td>-2.663792</td>\n",
       "      <td>-2.050445</td>\n",
       "      <td>-22.273350</td>\n",
       "      <td>0.113912</td>\n",
       "      <td>...</td>\n",
       "      <td>-31.659172</td>\n",
       "      <td>-12.164698</td>\n",
       "      <td>-2.046127</td>\n",
       "      <td>8.141735</td>\n",
       "      <td>0.013943</td>\n",
       "      <td>1.598770</td>\n",
       "      <td>-0.362930</td>\n",
       "      <td>12.670435</td>\n",
       "      <td>-3.719188</td>\n",
       "      <td>0.000000</td>\n",
       "    </tr>\n",
       "    <tr>\n",
       "      <th>25%</th>\n",
       "      <td>-224.750000</td>\n",
       "      <td>-0.002940</td>\n",
       "      <td>0.001411</td>\n",
       "      <td>-0.006918</td>\n",
       "      <td>0.004016</td>\n",
       "      <td>0.006607</td>\n",
       "      <td>-0.001430</td>\n",
       "      <td>0.005044</td>\n",
       "      <td>0.002397</td>\n",
       "      <td>0.002475</td>\n",
       "      <td>...</td>\n",
       "      <td>-0.000765</td>\n",
       "      <td>-0.001876</td>\n",
       "      <td>-0.007484</td>\n",
       "      <td>-0.000622</td>\n",
       "      <td>-0.001388</td>\n",
       "      <td>-0.001166</td>\n",
       "      <td>0.001225</td>\n",
       "      <td>-0.000254</td>\n",
       "      <td>0.000641</td>\n",
       "      <td>-0.110000</td>\n",
       "    </tr>\n",
       "    <tr>\n",
       "      <th>50%</th>\n",
       "      <td>173.500000</td>\n",
       "      <td>-0.005925</td>\n",
       "      <td>0.001459</td>\n",
       "      <td>-0.008424</td>\n",
       "      <td>-0.000825</td>\n",
       "      <td>-0.000157</td>\n",
       "      <td>-0.005261</td>\n",
       "      <td>0.008681</td>\n",
       "      <td>-0.000313</td>\n",
       "      <td>-0.005874</td>\n",
       "      <td>...</td>\n",
       "      <td>-0.000749</td>\n",
       "      <td>0.000208</td>\n",
       "      <td>0.000327</td>\n",
       "      <td>-0.001042</td>\n",
       "      <td>-0.000256</td>\n",
       "      <td>0.000084</td>\n",
       "      <td>-0.000790</td>\n",
       "      <td>0.000645</td>\n",
       "      <td>0.000105</td>\n",
       "      <td>0.110000</td>\n",
       "    </tr>\n",
       "    <tr>\n",
       "      <th>75%</th>\n",
       "      <td>212.500000</td>\n",
       "      <td>0.000407</td>\n",
       "      <td>-0.001315</td>\n",
       "      <td>-0.000507</td>\n",
       "      <td>-0.002981</td>\n",
       "      <td>0.000186</td>\n",
       "      <td>-0.007827</td>\n",
       "      <td>0.002889</td>\n",
       "      <td>0.002574</td>\n",
       "      <td>-0.005439</td>\n",
       "      <td>...</td>\n",
       "      <td>-0.001346</td>\n",
       "      <td>0.000189</td>\n",
       "      <td>0.003769</td>\n",
       "      <td>-0.000790</td>\n",
       "      <td>0.002593</td>\n",
       "      <td>-0.004244</td>\n",
       "      <td>-0.000637</td>\n",
       "      <td>0.001872</td>\n",
       "      <td>0.000171</td>\n",
       "      <td>1.060000</td>\n",
       "    </tr>\n",
       "    <tr>\n",
       "      <th>max</th>\n",
       "      <td>4.000000</td>\n",
       "      <td>0.008425</td>\n",
       "      <td>0.590526</td>\n",
       "      <td>-5.156450</td>\n",
       "      <td>3.731676</td>\n",
       "      <td>0.702357</td>\n",
       "      <td>52.111431</td>\n",
       "      <td>89.691828</td>\n",
       "      <td>3.371229</td>\n",
       "      <td>-5.202106</td>\n",
       "      <td>...</td>\n",
       "      <td>13.183513</td>\n",
       "      <td>-4.587950</td>\n",
       "      <td>2.141105</td>\n",
       "      <td>0.444867</td>\n",
       "      <td>0.570105</td>\n",
       "      <td>-1.667105</td>\n",
       "      <td>0.362018</td>\n",
       "      <td>21.732295</td>\n",
       "      <td>11.227736</td>\n",
       "      <td>12780.230000</td>\n",
       "    </tr>\n",
       "  </tbody>\n",
       "</table>\n",
       "<p>8 rows × 30 columns</p>\n",
       "</div>"
      ],
      "text/plain": [
       "                Time             V1             V2             V3  \\\n",
       "count  113490.000000  113490.000000  113490.000000  113490.000000   \n",
       "mean       57.125848       0.005018       0.005751      -0.004177   \n",
       "std       101.247946      -0.028047      -0.035382       0.000712   \n",
       "min         0.000000     -16.364972     -28.076483     -14.644605   \n",
       "25%      -224.750000      -0.002940       0.001411      -0.006918   \n",
       "50%       173.500000      -0.005925       0.001459      -0.008424   \n",
       "75%       212.500000       0.000407      -0.001315      -0.000507   \n",
       "max         4.000000       0.008425       0.590526      -5.156450   \n",
       "\n",
       "                  V4             V5             V6             V7  \\\n",
       "count  113490.000000  113490.000000  113490.000000  113490.000000   \n",
       "mean       -0.003135      -0.002355      -0.005351       0.005295   \n",
       "std        -0.002575       0.026081       0.001417       0.039799   \n",
       "min        -0.266856     -84.927730      -2.663792      -2.050445   \n",
       "25%         0.004016       0.006607      -0.001430       0.005044   \n",
       "50%        -0.000825      -0.000157      -0.005261       0.008681   \n",
       "75%        -0.002981       0.000186      -0.007827       0.002889   \n",
       "max         3.731676       0.702357      52.111431      89.691828   \n",
       "\n",
       "                  V8             V9  ...            V20            V21  \\\n",
       "count  113490.000000  113490.000000  ...  113490.000000  113490.000000   \n",
       "mean        0.000166      -0.003883  ...      -0.000042      -0.001907   \n",
       "std        -0.005326      -0.002680  ...      -0.001591       0.000459   \n",
       "min       -22.273350       0.113912  ...     -31.659172     -12.164698   \n",
       "25%         0.002397       0.002475  ...      -0.000765      -0.001876   \n",
       "50%        -0.000313      -0.005874  ...      -0.000749       0.000208   \n",
       "75%         0.002574      -0.005439  ...      -0.001346       0.000189   \n",
       "max         3.371229      -5.202106  ...      13.183513      -4.587950   \n",
       "\n",
       "                 V22            V23            V24            V25  \\\n",
       "count  113490.000000  113490.000000  113490.000000  113490.000000   \n",
       "mean       -0.000404      -0.007409      -0.000892      -0.002041   \n",
       "std         0.001573       0.011390       0.003353      -0.002831   \n",
       "min        -2.046127       8.141735       0.013943       1.598770   \n",
       "25%        -0.007484      -0.000622      -0.001388      -0.001166   \n",
       "50%         0.000327      -0.001042      -0.000256       0.000084   \n",
       "75%         0.003769      -0.000790       0.002593      -0.004244   \n",
       "max         2.141105       0.444867       0.570105      -1.667105   \n",
       "\n",
       "                 V26            V27            V28         Amount  \n",
       "count  113490.000000  113490.000000  113490.000000  113490.000000  \n",
       "mean       -0.000007       0.002577       0.000914       0.716546  \n",
       "std        -0.001930      -0.006847      -0.007392      12.117195  \n",
       "min        -0.362930      12.670435      -3.719188       0.000000  \n",
       "25%         0.001225      -0.000254       0.000641      -0.110000  \n",
       "50%        -0.000790       0.000645       0.000105       0.110000  \n",
       "75%        -0.000637       0.001872       0.000171       1.060000  \n",
       "max         0.362018      21.732295      11.227736   12780.230000  \n",
       "\n",
       "[8 rows x 30 columns]"
      ]
     },
     "execution_count": 12,
     "metadata": {},
     "output_type": "execute_result"
    }
   ],
   "source": [
    "X_train.describe() - X_test.describe()"
   ]
  },
  {
   "cell_type": "markdown",
   "id": "ecf9264a-c98e-4f65-895d-6177d15d1a5e",
   "metadata": {},
   "source": [
    "**Статистики обоих выборок близки**"
   ]
  },
  {
   "cell_type": "markdown",
   "id": "bcb4d528-6008-4257-859a-6e3c92897642",
   "metadata": {},
   "source": [
    "### Нормализация данных "
   ]
  },
  {
   "cell_type": "code",
   "execution_count": 13,
   "id": "b9fa4230-e30f-41ff-9e74-530cd7c5d741",
   "metadata": {},
   "outputs": [],
   "source": [
    "ss = StandardScaler()\n",
    "ss.fit(X_train)\n",
    "\n",
    "X_train_norm = pd.DataFrame(data=ss.transform(X_train), columns=ss.get_feature_names_out())\n",
    "X_test_norm = pd.DataFrame(data=ss.transform(X_test), columns=ss.get_feature_names_out())"
   ]
  },
  {
   "cell_type": "markdown",
   "id": "9b91e8fc-beff-4fd5-a066-dac9c7c6f7dd",
   "metadata": {},
   "source": [
    "# Логистическая регрессия"
   ]
  },
  {
   "cell_type": "code",
   "execution_count": null,
   "id": "339abf3d-8a43-417f-8f3a-bf690cbdfd40",
   "metadata": {},
   "outputs": [],
   "source": []
  },
  {
   "cell_type": "code",
   "execution_count": 14,
   "id": "4022f300-b10e-4bab-ab5c-3f12ffa7da3b",
   "metadata": {},
   "outputs": [],
   "source": [
    "#Обучение\n",
    "logistic_regression = LogisticRegression(class_weight=\"balanced\")\n",
    "logistic_regression.fit(X_train_norm, Y_train);"
   ]
  },
  {
   "cell_type": "code",
   "execution_count": 15,
   "id": "f18b458c-d359-459b-a1ab-71b5cff513c2",
   "metadata": {},
   "outputs": [],
   "source": [
    "#Предсказание\n",
    "Y_logistic_regression_pred = logistic_regression.predict(X_test_norm)"
   ]
  },
  {
   "cell_type": "code",
   "execution_count": 16,
   "id": "7c6b9f25-142e-4537-ad20-a7d4a8479369",
   "metadata": {},
   "outputs": [
    {
     "name": "stdout",
     "output_type": "stream",
     "text": [
      "              precision    recall  f1-score   support\n",
      "\n",
      "           0       1.00      0.98      0.99     84976\n",
      "           1       0.06      0.92      0.11       142\n",
      "\n",
      "    accuracy                           0.98     85118\n",
      "   macro avg       0.53      0.95      0.55     85118\n",
      "weighted avg       1.00      0.98      0.99     85118\n",
      "\n"
     ]
    }
   ],
   "source": [
    "print(classification_report(Y_test, Y_logistic_regression_pred))"
   ]
  },
  {
   "cell_type": "markdown",
   "id": "7d6f8766-2950-4e47-9e5c-3403747826d0",
   "metadata": {},
   "source": [
    "# RandomForestClassifier"
   ]
  },
  {
   "cell_type": "code",
   "execution_count": 55,
   "id": "a41cd3ad-c9f7-4355-954f-0ce69bcd4948",
   "metadata": {},
   "outputs": [],
   "source": [
    "random_forest = RandomForestClassifier(random_state=42, n_jobs=-1)\n",
    "random_forest.fit(X_train_norm, Y_train);"
   ]
  },
  {
   "cell_type": "code",
   "execution_count": 56,
   "id": "bf27c85d-dcfd-45d7-a99d-e4d4df25b3a0",
   "metadata": {},
   "outputs": [],
   "source": [
    "Y_random_forest_pred = random_forest.predict(X_test_norm)"
   ]
  },
  {
   "cell_type": "code",
   "execution_count": 57,
   "id": "cf2789e6-23ae-449a-a30f-dc35b0f2451c",
   "metadata": {},
   "outputs": [
    {
     "name": "stdout",
     "output_type": "stream",
     "text": [
      "              precision    recall  f1-score   support\n",
      "\n",
      "           0       1.00      1.00      1.00     84976\n",
      "           1       0.96      0.82      0.88       142\n",
      "\n",
      "    accuracy                           1.00     85118\n",
      "   macro avg       0.98      0.91      0.94     85118\n",
      "weighted avg       1.00      1.00      1.00     85118\n",
      "\n"
     ]
    }
   ],
   "source": [
    "print(classification_report(Y_test, Y_random_forest_pred))"
   ]
  },
  {
   "cell_type": "markdown",
   "id": "75736696-a2c3-4fe8-b7ac-7d5877db2bbb",
   "metadata": {},
   "source": [
    "# Сэмплирование"
   ]
  },
  {
   "cell_type": "markdown",
   "id": "c11a5fda-d3ce-4ddd-addb-96c959dc318a",
   "metadata": {},
   "source": [
    "В целом сэмплирование - это корректировка обучающей выборки с целью балансировки распределения классов в наборе данных.\n",
    "Воспользуемся различными метдами сэмплирования и оценим результаты"
   ]
  },
  {
   "cell_type": "markdown",
   "id": "610152fe-ebd6-4578-ab97-445c76806781",
   "metadata": {},
   "source": [
    "# Undersampling\n",
    "В целом исходя из названия можно понять что будет происходить, а именно уменьшение экземпляров мажоритарного класса"
   ]
  },
  {
   "cell_type": "code",
   "execution_count": 20,
   "id": "90253605-0962-4058-93f4-db33e03f2c0d",
   "metadata": {},
   "outputs": [],
   "source": [
    "under_sampler = RandomUnderSampler(random_state=42)\n",
    "X_undersample, Y_undersample = under_sampler.fit_resample(X_train_norm, Y_train)"
   ]
  },
  {
   "cell_type": "code",
   "execution_count": 21,
   "id": "654be7dc-be79-43e7-962f-c763ecccda75",
   "metadata": {},
   "outputs": [
    {
     "name": "stdout",
     "output_type": "stream",
     "text": [
      "Честные транзацкии - 50.0 %, 331 экземпляров\n",
      "Мошеннические - 50.0 %, 331 экземпляров \n"
     ]
    },
    {
     "data": {
      "image/png": "[encoded data removed]",
      "text/plain": [
       "<Figure size 640x480 with 1 Axes>"
      ]
     },
     "metadata": {},
     "output_type": "display_data"
    }
   ],
   "source": [
    "fraud_or_not = Y_undersample.value_counts().tolist()\n",
    "labels = ['Честные транзакции', 'мошеннические']\n",
    "values = [fraud_or_not[0], fraud_or_not[1]]\n",
    "print(f\"Честные транзацкии - {fraud_or_not[0]/(fraud_or_not[0]+fraud_or_not[1])*100} %, {fraud_or_not[0]} экземпляров\")\n",
    "print(f\"Мошеннические - {fraud_or_not[1]/(fraud_or_not[0]+fraud_or_not[1])*100} %, {fraud_or_not[1]} экземпляров \")\n",
    "fig, ax = plt.subplots()\n",
    "ax.pie(values, labels=labels, autopct='%1.1f%%', colors=[\"lightblue\", 'crimson'])\n",
    "plt.show()"
   ]
  },
  {
   "cell_type": "markdown",
   "id": "30305016-0e94-4d8e-ad26-78bed002ccfb",
   "metadata": {},
   "source": [
    "### Undersampling + Logistic Regression"
   ]
  },
  {
   "cell_type": "code",
   "execution_count": 24,
   "id": "bbb78b6a-fb58-4e55-a604-618fb76275df",
   "metadata": {},
   "outputs": [],
   "source": [
    "#Обучение\n",
    "logistic_regression = LogisticRegression(class_weight=\"balanced\")\n",
    "logistic_regression.fit(X_undersample, Y_undersample);"
   ]
  },
  {
   "cell_type": "code",
   "execution_count": 25,
   "id": "1ef7bb0f-af16-4b23-a9ed-443db4101840",
   "metadata": {},
   "outputs": [],
   "source": [
    "#Предсказание\n",
    "Y_logistic_pred_under = logistic_regression.predict(X_test_norm)"
   ]
  },
  {
   "cell_type": "code",
   "execution_count": 26,
   "id": "3e340750-73e9-4559-b9d7-f98c1fd06224",
   "metadata": {},
   "outputs": [
    {
     "name": "stdout",
     "output_type": "stream",
     "text": [
      "              precision    recall  f1-score   support\n",
      "\n",
      "           0       1.00      0.96      0.98     84976\n",
      "           1       0.03      0.92      0.07       142\n",
      "\n",
      "    accuracy                           0.96     85118\n",
      "   macro avg       0.52      0.94      0.52     85118\n",
      "weighted avg       1.00      0.96      0.98     85118\n",
      "\n"
     ]
    }
   ],
   "source": [
    "print(classification_report(Y_test, Y_logistic_pred_under))"
   ]
  },
  {
   "cell_type": "markdown",
   "id": "2aa68094-6c61-442c-8606-dd6a0be46dc7",
   "metadata": {},
   "source": [
    "### Undersampling + RandomForest"
   ]
  },
  {
   "cell_type": "code",
   "execution_count": 61,
   "id": "6dd81d15-3074-4267-b44a-93aa101666ca",
   "metadata": {},
   "outputs": [],
   "source": [
    "#Обучение\n",
    "random_forest = RandomForestClassifier(random_state=42, n_jobs=-1)\n",
    "random_forest.fit(X_undersample, Y_undersample);"
   ]
  },
  {
   "cell_type": "code",
   "execution_count": 62,
   "id": "c8287c2c-7529-411f-b1e5-d503d94babb5",
   "metadata": {},
   "outputs": [],
   "source": [
    "#Предсказание\n",
    "Y_forest_pred_under = random_forest.predict(X_test_norm)"
   ]
  },
  {
   "cell_type": "code",
   "execution_count": 63,
   "id": "a8ff257b-5915-4c37-b2be-dd4e88bf1ebb",
   "metadata": {},
   "outputs": [
    {
     "name": "stdout",
     "output_type": "stream",
     "text": [
      "              precision    recall  f1-score   support\n",
      "\n",
      "           0       1.00      0.96      0.98     84976\n",
      "           1       0.04      0.89      0.07       142\n",
      "\n",
      "    accuracy                           0.96     85118\n",
      "   macro avg       0.52      0.93      0.53     85118\n",
      "weighted avg       1.00      0.96      0.98     85118\n",
      "\n"
     ]
    }
   ],
   "source": [
    "print(classification_report(Y_test, Y_forest_pred_under))"
   ]
  },
  {
   "cell_type": "markdown",
   "id": "e0136d0f-a48c-440b-b8a8-991cf279766f",
   "metadata": {},
   "source": [
    "# Oversampling\n",
    "При оверсемплинге напротив экземпляры миноритарноо класса будут множится"
   ]
  },
  {
   "cell_type": "code",
   "execution_count": 31,
   "id": "b406f741-e3da-488c-b990-4a221b2243ce",
   "metadata": {},
   "outputs": [],
   "source": [
    "over_sampler = RandomOverSampler(random_state=42)\n",
    "X_oversample, Y_oversample = over_sampler.fit_resample(X_train_norm, Y_train)"
   ]
  },
  {
   "cell_type": "code",
   "execution_count": 32,
   "id": "4a922347-dc78-47f8-b3c1-7fa81a4a94bf",
   "metadata": {},
   "outputs": [
    {
     "name": "stdout",
     "output_type": "stream",
     "text": [
      "Честные транзацкии - 50.0 %, 198277 экземпляров\n",
      "Мошеннические - 50.0 %, 198277 экземпляров \n"
     ]
    },
    {
     "data": {
      "image/png": "[encoded data removed]",
      "text/plain": [
       "<Figure size 640x480 with 1 Axes>"
      ]
     },
     "metadata": {},
     "output_type": "display_data"
    }
   ],
   "source": [
    "fraud_or_not = Y_oversample.value_counts().tolist()\n",
    "labels = ['Честные транзакции', 'мошеннические']\n",
    "values = [fraud_or_not[0], fraud_or_not[1]]\n",
    "print(f\"Честные транзацкии - {fraud_or_not[0]/(fraud_or_not[0]+fraud_or_not[1])*100} %, {fraud_or_not[0]} экземпляров\")\n",
    "print(f\"Мошеннические - {fraud_or_not[1]/(fraud_or_not[0]+fraud_or_not[1])*100} %, {fraud_or_not[1]} экземпляров \")\n",
    "fig, ax = plt.subplots()\n",
    "ax.pie(values, labels=labels, autopct='%1.1f%%', colors=[\"lightblue\", 'crimson'])\n",
    "plt.show()"
   ]
  },
  {
   "cell_type": "markdown",
   "id": "017329ac-6dda-4809-a477-cca3b96121ee",
   "metadata": {},
   "source": [
    "### Oversampling + Logistic Regression"
   ]
  },
  {
   "cell_type": "code",
   "execution_count": 34,
   "id": "a37f24f4-97ed-4757-8637-f460ebadd5b4",
   "metadata": {},
   "outputs": [],
   "source": [
    "#Обучение\n",
    "logistic_regression = LogisticRegression(class_weight=\"balanced\")\n",
    "logistic_regression.fit(X_oversample, Y_oversample);"
   ]
  },
  {
   "cell_type": "code",
   "execution_count": 35,
   "id": "2b9f1a8b-5b42-491f-b226-afc898db3a60",
   "metadata": {},
   "outputs": [],
   "source": [
    "#Предсказание\n",
    "Y_logistic_pred_over = logistic_regression.predict(X_test_norm)"
   ]
  },
  {
   "cell_type": "code",
   "execution_count": 36,
   "id": "c1b175aa-dc12-4a64-b8c7-6b15d72f8ddc",
   "metadata": {},
   "outputs": [
    {
     "name": "stdout",
     "output_type": "stream",
     "text": [
      "              precision    recall  f1-score   support\n",
      "\n",
      "           0       1.00      0.98      0.99     84976\n",
      "           1       0.06      0.92      0.11       142\n",
      "\n",
      "    accuracy                           0.98     85118\n",
      "   macro avg       0.53      0.95      0.55     85118\n",
      "weighted avg       1.00      0.98      0.99     85118\n",
      "\n"
     ]
    }
   ],
   "source": [
    "print(classification_report(Y_test, Y_logistic_pred_over))"
   ]
  },
  {
   "cell_type": "markdown",
   "id": "30a85664-bea0-4a4f-a2c9-ad180c6c4aa0",
   "metadata": {},
   "source": [
    "### Overrsampling + RandomForestClassifier"
   ]
  },
  {
   "cell_type": "code",
   "execution_count": 64,
   "id": "c1413987-47ae-4756-9091-bda5a790fe9a",
   "metadata": {},
   "outputs": [],
   "source": [
    "#Обучение\n",
    "random_forest = RandomForestClassifier(random_state=42, n_jobs=-1)\n",
    "random_forest.fit(X_oversample, Y_oversample);"
   ]
  },
  {
   "cell_type": "code",
   "execution_count": 65,
   "id": "f0787e53-d3cf-4779-8d76-635f3079474a",
   "metadata": {},
   "outputs": [],
   "source": [
    "#Предсказание\n",
    "Y_forest_pred_over = random_forest.predict(X_test_norm)"
   ]
  },
  {
   "cell_type": "code",
   "execution_count": 66,
   "id": "f585922d-42bc-4eef-8f8e-84f2762f7cf5",
   "metadata": {},
   "outputs": [
    {
     "name": "stdout",
     "output_type": "stream",
     "text": [
      "              precision    recall  f1-score   support\n",
      "\n",
      "           0       1.00      1.00      1.00     84976\n",
      "           1       0.95      0.81      0.87       142\n",
      "\n",
      "    accuracy                           1.00     85118\n",
      "   macro avg       0.98      0.90      0.94     85118\n",
      "weighted avg       1.00      1.00      1.00     85118\n",
      "\n"
     ]
    }
   ],
   "source": [
    "print(classification_report(Y_test, Y_forest_pred_over))"
   ]
  },
  {
   "cell_type": "markdown",
   "id": "208e17a6-adea-4ac0-aba0-0e17510c6df2",
   "metadata": {},
   "source": [
    "# SMOTE\n",
    "Это тоже оверсемплинг, но тут новые экземпляры миноритарного класса не дублируются, а создаются новые."
   ]
  },
  {
   "cell_type": "code",
   "execution_count": 41,
   "id": "43470b27-ea3f-4d49-b423-707e8d3ee07c",
   "metadata": {},
   "outputs": [],
   "source": [
    "SMOTE_sampler = SMOTE(random_state=42)\n",
    "X_SMOTE, Y_SMOTE = SMOTE_sampler.fit_resample(X_train_norm, Y_train)"
   ]
  },
  {
   "cell_type": "code",
   "execution_count": 42,
   "id": "6c3e3241-4938-4323-8acb-d5cf7fa6d49f",
   "metadata": {},
   "outputs": [
    {
     "name": "stdout",
     "output_type": "stream",
     "text": [
      "Честные транзацкии - 50.0 %, 198277 экземпляров\n",
      "Мошеннические - 50.0 %, 198277 экземпляров \n"
     ]
    },
    {
     "data": {
      "image/png": "[encoded data removed]",
      "text/plain": [
       "<Figure size 640x480 with 1 Axes>"
      ]
     },
     "metadata": {},
     "output_type": "display_data"
    }
   ],
   "source": [
    "fraud_or_not = Y_SMOTE.value_counts().tolist()\n",
    "labels = ['Честные транзакции', 'мошеннические']\n",
    "values = [fraud_or_not[0], fraud_or_not[1]]\n",
    "print(f\"Честные транзацкии - {fraud_or_not[0]/(fraud_or_not[0]+fraud_or_not[1])*100} %, {fraud_or_not[0]} экземпляров\")\n",
    "print(f\"Мошеннические - {fraud_or_not[1]/(fraud_or_not[0]+fraud_or_not[1])*100} %, {fraud_or_not[1]} экземпляров \")\n",
    "fig, ax = plt.subplots()\n",
    "ax.pie(values, labels=labels, autopct='%1.1f%%', colors=[\"lightblue\", 'crimson'])\n",
    "plt.show()"
   ]
  },
  {
   "cell_type": "markdown",
   "id": "6b2445da-1c89-46af-adc8-cc564be75db6",
   "metadata": {},
   "source": [
    "### SMOTE + Logistic Regression"
   ]
  },
  {
   "cell_type": "code",
   "execution_count": 44,
   "id": "cbfd8154-8bbb-4594-8f4e-ea23591c36e6",
   "metadata": {},
   "outputs": [],
   "source": [
    "#Обучение\n",
    "logistic_regression = LogisticRegression(class_weight=\"balanced\")\n",
    "logistic_regression.fit(X_SMOTE, Y_SMOTE);"
   ]
  },
  {
   "cell_type": "code",
   "execution_count": 45,
   "id": "cc0b54f3-132e-43db-9b8f-04a415a781b2",
   "metadata": {},
   "outputs": [],
   "source": [
    "#Предсказание\n",
    "Y_logistic_pred_SMOTE = logistic_regression.predict(X_test_norm)"
   ]
  },
  {
   "cell_type": "code",
   "execution_count": 46,
   "id": "7ff15fe3-53d6-48d6-abe3-f57225fedd7e",
   "metadata": {},
   "outputs": [
    {
     "name": "stdout",
     "output_type": "stream",
     "text": [
      "              precision    recall  f1-score   support\n",
      "\n",
      "           0       1.00      0.97      0.99     84976\n",
      "           1       0.05      0.92      0.10       142\n",
      "\n",
      "    accuracy                           0.97     85118\n",
      "   macro avg       0.53      0.94      0.54     85118\n",
      "weighted avg       1.00      0.97      0.99     85118\n",
      "\n"
     ]
    }
   ],
   "source": [
    "print(classification_report(Y_test, Y_logistic_pred_SMOTE))"
   ]
  },
  {
   "cell_type": "markdown",
   "id": "f64f241e-6d98-46d1-b836-eb711d978fad",
   "metadata": {},
   "source": [
    "### SMOTE + RandomForestClassifier"
   ]
  },
  {
   "cell_type": "code",
   "execution_count": 67,
   "id": "9134111f-2e1d-41b9-9871-7cd799d84c8c",
   "metadata": {},
   "outputs": [],
   "source": [
    "#Обучение\n",
    "random_forest = RandomForestClassifier(random_state=42, n_jobs=-1)\n",
    "random_forest.fit(X_SMOTE, Y_SMOTE);"
   ]
  },
  {
   "cell_type": "code",
   "execution_count": 68,
   "id": "7135c24f-f649-45b8-9bab-9517cd3202d4",
   "metadata": {},
   "outputs": [],
   "source": [
    "#Предсказание\n",
    "Y_forest_pred_SMOTE = random_forest.predict(X_test_norm)"
   ]
  },
  {
   "cell_type": "code",
   "execution_count": 69,
   "id": "81c4de8b-bb80-449f-ae02-7863aa1eb392",
   "metadata": {},
   "outputs": [
    {
     "name": "stdout",
     "output_type": "stream",
     "text": [
      "              precision    recall  f1-score   support\n",
      "\n",
      "           0       1.00      1.00      1.00     84976\n",
      "           1       0.89      0.84      0.87       142\n",
      "\n",
      "    accuracy                           1.00     85118\n",
      "   macro avg       0.95      0.92      0.93     85118\n",
      "weighted avg       1.00      1.00      1.00     85118\n",
      "\n"
     ]
    }
   ],
   "source": [
    "print(classification_report(Y_test, Y_forest_pred_SMOTE))"
   ]
  },
  {
   "cell_type": "markdown",
   "id": "5ca076e1-378b-4698-836c-6eb70e29123c",
   "metadata": {},
   "source": [
    "# Выводы по моделям\n",
    "Соберем все результаты и проанализируем"
   ]
  },
  {
   "cell_type": "code",
   "execution_count": 70,
   "id": "4ed78f59-a3b9-47f6-81df-c59a4d48cd15",
   "metadata": {},
   "outputs": [],
   "source": [
    "\n",
    "recall_arr = []\n",
    "precision_arr = []\n",
    "f1_arr = []\n",
    "default_regression = classification_report(Y_test, Y_logistic_regression_pred, output_dict=True)\n",
    "default_forest = classification_report(Y_test, Y_random_forest_pred, output_dict=True)\n",
    "recall_arr.append(default_regression['1'][\"recall\"])\n",
    "precision_arr.append(default_regression['1'][\"precision\"])\n",
    "recall_arr.append(default_forest['1'][\"recall\"])\n",
    "precision_arr.append(default_forest['1'][\"precision\"])\n",
    "f1_arr.append(default_regression['1'][\"f1-score\"])\n",
    "f1_arr.append(default_forest['1'][\"f1-score\"])\n",
    "\n",
    "\n",
    "under_regression = classification_report(Y_test, Y_logistic_pred_under, output_dict=True)\n",
    "under_forest = classification_report(Y_test, Y_forest_pred_under, output_dict=True)\n",
    "recall_arr.append(under_regression['1'][\"recall\"])\n",
    "precision_arr.append(under_regression['1'][\"precision\"])\n",
    "recall_arr.append(under_forest['1'][\"recall\"])\n",
    "precision_arr.append(under_forest['1'][\"precision\"])\n",
    "f1_arr.append(under_regression['1'][\"f1-score\"])\n",
    "f1_arr.append(under_forest['1'][\"f1-score\"])\n",
    "\n",
    "\n",
    "over_regression = classification_report(Y_test, Y_logistic_pred_over, output_dict=True)\n",
    "over_forest = classification_report(Y_test, Y_forest_pred_over, output_dict=True)\n",
    "recall_arr.append(over_regression['1'][\"recall\"])\n",
    "precision_arr.append(over_regression['1'][\"precision\"])\n",
    "recall_arr.append(over_forest['1'][\"recall\"])\n",
    "precision_arr.append(over_forest['1'][\"precision\"])\n",
    "f1_arr.append(over_regression['1'][\"f1-score\"])\n",
    "f1_arr.append(over_forest['1'][\"f1-score\"])\n",
    "\n",
    "SMOTE_regression = classification_report(Y_test, Y_logistic_pred_SMOTE, output_dict=True)\n",
    "SMOTE_forest = classification_report(Y_test, Y_forest_pred_SMOTE, output_dict=True)\n",
    "recall_arr.append(SMOTE_regression['1'][\"recall\"])\n",
    "precision_arr.append(SMOTE_regression['1'][\"precision\"])\n",
    "recall_arr.append(SMOTE_forest['1'][\"recall\"])\n",
    "precision_arr.append(SMOTE_forest['1'][\"precision\"])\n",
    "f1_arr.append(SMOTE_regression['1'][\"f1-score\"])\n",
    "f1_arr.append(SMOTE_forest['1'][\"f1-score\"])\n",
    "\n",
    "\n",
    "names = [\"Regression\", \"RForest\", \"Unders. + Regression\", \"Unders. + RForest\", \"Over. + Regression\", \"Over. + RForest\", \"SMOTE + Regression\", \"SMOTE + RForest\" ]\n"
   ]
  },
  {
   "cell_type": "code",
   "execution_count": 71,
   "id": "123e63a6-05df-4f40-9b56-b8c55fd1ff8d",
   "metadata": {},
   "outputs": [
    {
     "name": "stderr",
     "output_type": "stream",
     "text": [
      "C:\\Users\\tishkov.m\\AppData\\Local\\Temp\\ipykernel_11708\\4017679563.py:3: UserWarning: FixedFormatter should only be used together with FixedLocator\n",
      "  ax1.set_xticklabels(names,rotation=90)\n",
      "C:\\Users\\tishkov.m\\AppData\\Local\\Temp\\ipykernel_11708\\4017679563.py:7: UserWarning: FixedFormatter should only be used together with FixedLocator\n",
      "  ax2.set_xticklabels(names,rotation=90)\n",
      "C:\\Users\\tishkov.m\\AppData\\Local\\Temp\\ipykernel_11708\\4017679563.py:11: UserWarning: FixedFormatter should only be used together with FixedLocator\n",
      "  ax3.set_xticklabels(names,rotation=90)\n"
     ]
    },
    {
     "data": {
      "image/png": "[encoded data removed]",
      "text/plain": [
       "<Figure size 640x480 with 3 Axes>"
      ]
     },
     "metadata": {},
     "output_type": "display_data"
    },
    {
     "name": "stdout",
     "output_type": "stream",
     "text": [
      "Regression : Recall = 0.9225352112676056; Precision = 0.059626763768775605; f1-score = 0.11201368106028217 \n",
      "RForest : Recall = 0.8169014084507042; Precision = 0.9586776859504132; f1-score = 0.8821292775665399 \n",
      "Unders. + Regression : Recall = 0.9154929577464789; Precision = 0.03411178168459722; f1-score = 0.06577283076144701 \n",
      "Unders. + RForest : Recall = 0.8873239436619719; Precision = 0.039021368844843606; f1-score = 0.07475526549985168 \n",
      "Over. + Regression : Recall = 0.9225352112676056; Precision = 0.0595184007269423; f1-score = 0.11182244985061887 \n",
      "Over. + RForest : Recall = 0.8098591549295775; Precision = 0.9504132231404959; f1-score = 0.8745247148288974 \n",
      "SMOTE + Regression : Recall = 0.9154929577464789; Precision = 0.0546218487394958; f1-score = 0.10309278350515463 \n",
      "SMOTE + RForest : Recall = 0.8380281690140845; Precision = 0.8947368421052632; f1-score = 0.8654545454545454 \n"
     ]
    }
   ],
   "source": [
    "fig, (ax1, ax2,ax3) = plt.subplots(1,3)\n",
    "ax1.bar(names,recall_arr)\n",
    "ax1.set_xticklabels(names,rotation=90)\n",
    "ax1.set_title(\"Recall\")\n",
    "\n",
    "ax2.bar(names,precision_arr)\n",
    "ax2.set_xticklabels(names,rotation=90)\n",
    "ax2.set_title(\"Precision\")\n",
    "\n",
    "ax3.bar(names,f1_arr)\n",
    "ax3.set_xticklabels(names,rotation=90)\n",
    "ax3.set_title(\"f1 -score\")\n",
    "fig.tight_layout()\n",
    "plt.show()\n",
    "\n",
    "for i in range(len(names)):\n",
    "    print(f\"{names[i]} : Recall = {recall_arr[i]}; Precision = {precision_arr[i]}; f1-score = {f1_arr[i]} \")"
   ]
  },
  {
   "cell_type": "markdown",
   "id": "31e88476-f163-457b-b472-76f081e62af4",
   "metadata": {},
   "source": [
    "# Выводы\n",
    "По результатам работы можно сделать вывод, что линейная регрессия очень плохо справляется с этой задачей (что логично, в силу высокой нелинейности), при сэмплировании recall, precision, f1-score для линейной регрессии меняются незначительно.\n",
    "\n",
    "При использовании метода RandomForestClassifier удалось добиться хороших результатов и на исходном датасете.\\\n",
    "При ресемплировании очень плохо показало себя undersample, Precision и f1-score очень сильно упали.\\\n",
    "При использовании random oversample и SMOTE незначительно уменьшаются Precision и f1-score и увеличивается Recall\\\n",
    "Я считаю, что для нашей задачи увеличение параметар Recall является более важным, потому что уменьшает количество неопределенных актов мошенничества (наверное лучше перепроверить честный платеж, чем пропустить мошенничество)\\\n",
    "**Вывод: Из рассмотренных моделей лучше всего себя показала модель RandomForestClassifier с Random oversampling**"
   ]
  },
  {
   "cell_type": "code",
   "execution_count": null,
   "id": "f59e34bd-8d6d-42e3-aa31-1bf6a77d1634",
   "metadata": {},
   "outputs": [],
   "source": []
  }
 ],
 "metadata": {
  "kernelspec": {
   "display_name": "Python 3 (ipykernel)",
   "language": "python",
   "name": "python3"
  },
  "language_info": {
   "codemirror_mode": {
    "name": "ipython",
    "version": 3
   },
   "file_extension": ".py",
   "mimetype": "text/x-python",
   "name": "python",
   "nbconvert_exporter": "python",
   "pygments_lexer": "ipython3",
   "version": "3.9.10"
  }
 },
 "nbformat": 4,
 "nbformat_minor": 5
}
